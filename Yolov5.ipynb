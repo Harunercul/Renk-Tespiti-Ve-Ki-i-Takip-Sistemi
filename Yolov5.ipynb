{
  "nbformat": 4,
  "nbformat_minor": 0,
  "metadata": {
    "colab": {
      "provenance": []
    },
    "kernelspec": {
      "name": "python3",
      "display_name": "Python 3"
    },
    "language_info": {
      "name": "python"
    }
  },
  "cells": [
    {
      "cell_type": "code",
      "execution_count": null,
      "metadata": {
        "id": "jZwQl2fDU07n"
      },
      "outputs": [],
      "source": [
        "#drivemızı colaba bağlıyoruz\n",
        "from google.colab import drive\n",
        "drive.mount(\"/content/drive\")"
      ]
    },
    {
      "cell_type": "code",
      "source": [
        "#Yolov5 gereksinimleri yükleniyor\n",
        "!git clone https://github.com/ultralytics/yolov5  # clone\n",
        "%cd yolov5\n",
        "%pip install -qr requirements.txt  # install\n",
        "\n",
        "import torch\n",
        "import utils\n",
        "display = utils.notebook_init()  # checks"
      ],
      "metadata": {
        "id": "hWKKVHJ1U7pc"
      },
      "execution_count": null,
      "outputs": []
    },
    {
      "cell_type": "code",
      "source": [
        "#Drive dosyasından datamızı çıkarıyoruz\n",
        "!unzip -q /content/drive/MyDrive/data/data_9.zip -d ../"
      ],
      "metadata": {
        "id": "CGrdTL7eU9Yr"
      },
      "execution_count": null,
      "outputs": []
    },
    {
      "cell_type": "code",
      "source": [
        "#epochs değerini kendinize göre belirleyebilirsiniz proje boyutuna göre \n",
        "\n",
        "\n",
        "!python train.py --img 640 --batch 16 --epochs 120  --data custom.yaml --weights yolov5x.pt --cache"
      ],
      "metadata": {
        "id": "7fsQfh2HVDkk"
      },
      "execution_count": null,
      "outputs": []
    },
    {
      "cell_type": "code",
      "source": [
        "#Çıktımız yolov5 dosyası altına kaydediliyor\n",
        "!python detect.py --weights /content/yolov5/runs/train/exp/weights/best.pt --img 640 --conf 0.2 --source /content/drive/MyDrive/color/ode2.mp4\n",
        "# display.Image(filename='runs/detect/exp/zidane.jpg', width=600)"
      ],
      "metadata": {
        "id": "CpPbTRhQpGRv"
      },
      "execution_count": null,
      "outputs": []
    }
  ]
}